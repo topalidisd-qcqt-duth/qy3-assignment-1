{
 "cells": [
  {
   "cell_type": "code",
   "execution_count": null,
   "id": "14fd05af-95bc-4298-8da5-c83e4241e22d",
   "metadata": {},
   "outputs": [],
   "source": [
    "from qiskit import *\n",
    "import numpy as np\n",
    "from qiskit_ibm_runtime.fake_provider import FakeAlmadenV2\n",
    "from qiskit.visualization import plot_histogram\n",
    "from qiskit_ibm_runtime import QiskitRuntimeService, SamplerV2\n",
    "from qiskit.primitives import StatevectorSampler\n",
    "from qiskit.transpiler import generate_preset_pass_manager\n",
    "\n",
    "def assignment1_oracle(s):\n",
    "    n = len(s)\n",
    "    qc = QuantumCircuit(n+1)\n",
    "\n",
    "    for i, bit in enumerate(reversed(s)):\n",
    "        if bit == \"1\":\n",
    "            qc.cx(i, n) \n",
    "    return qc\n",
    "\n",
    "def bernstein_varizani(oracle, n):\n",
    "    \n",
    "    \n",
    "    #Step 1\n",
    "    qc = QuantumCircuit(n + 1, n)\n",
    "    \n",
    "    #Step 2\n",
    "    qc.h(np.arange(0, n, 1))\n",
    "    \n",
    "    \n",
    "  \n",
    "    #Step 3\n",
    "#Preparation step: We need the ancilla qubit to be prepared to |1>. \n",
    "#                  There in no built-in way in Qiskit to achieve this, since all qubits are initialized in state |0>.\n",
    "#                  For this reason, we are applying a Pauli X gate to the ancilla qubit, so we flip it's state from |0> to |1>\n",
    "    qc.x(n)\n",
    "    qc.h(n)\n",
    "    \n",
    "    \n",
    "    #Step 4\n",
    "    qc.barrier()\n",
    "    qc.compose(oracle, qubits=range(n + 1), inplace=True)\n",
    "    qc.barrier()\n",
    "    \n",
    "    \n",
    "    #Step 5\n",
    "    qc.h(np.arange(0, n, 1))\n",
    "    qc.barrier()\n",
    "    \n",
    "    \n",
    "    #Step 6\n",
    "    qc.measure(np.arange(0, n, 1),np.arange(0, n, 1))\n",
    "    \n",
    "    return qc"
   ]
  },
  {
   "cell_type": "code",
   "execution_count": null,
   "id": "a1dfb776",
   "metadata": {},
   "outputs": [],
   "source": [
    "#Example required by the assignment\n",
    "s = \"1010\"\n",
    "o = assignment1_oracle(s)\n",
    "qc = bernstein_varizani(o, len(s))\n",
    "qc.draw('mpl')"
   ]
  },
  {
   "cell_type": "code",
   "execution_count": null,
   "id": "524f2f4d",
   "metadata": {},
   "outputs": [],
   "source": [
    "#Simulation using StatevectorSampler\n",
    "pm = generate_preset_pass_manager(optimization_level=1)\n",
    "transpiled_qc = pm.run(qc)\n",
    "statevectorSampler = StatevectorSampler()\n",
    "job = statevectorSampler.run([transpiled_qc])\n",
    "pub_result = job.result()[0]\n",
    "counts = pub_result.data.c.get_counts()\n",
    "plot_histogram(counts)"
   ]
  },
  {
   "cell_type": "code",
   "execution_count": null,
   "id": "ba1dfd0b",
   "metadata": {},
   "outputs": [],
   "source": [
    "#Simulation using SamplerV2\n",
    "backend = FakeAlmadenV2()\n",
    "pm = generate_preset_pass_manager(backend=backend, optimization_level=1)\n",
    "transpiled_qc = pm.run(qc)\n",
    "sampler = SamplerV2(mode=backend)\n",
    "job = sampler.run([transpiled_qc])\n",
    "pub_result = job.result()[0]\n",
    "counts = pub_result.data.c.get_counts()\n",
    "plot_histogram(counts)"
   ]
  },
  {
   "cell_type": "code",
   "execution_count": null,
   "id": "f14388fc-c12c-4176-adcf-a639f750fcc0",
   "metadata": {},
   "outputs": [],
   "source": [
    "#Execution on a real quantum computer\n",
    "service = QiskitRuntimeService(\n",
    "    channel='ibm_quantum',\n",
    "    token='<IBM_QUANTUM_TOKEN>'\n",
    ")\n",
    "shots=1024\n",
    "\n",
    "backend = service.least_busy(operational=True, simulator=False)\n",
    "pm = generate_preset_pass_manager(backend=backend, optimization_level=1)\n",
    "transpiled_qc = pm.run(qc) \n",
    "sampler = SamplerV2(backend)\n",
    "job = sampler.run([transpiled_qc])\n",
    "pub_result = job.result()[0]\n",
    "counts = pub_result.data.c.get_counts()\n",
    "plot_histogram(counts)"
   ]
  },
  {
   "cell_type": "code",
   "execution_count": null,
   "id": "a389effd",
   "metadata": {},
   "outputs": [],
   "source": []
  }
 ],
 "metadata": {
  "kernelspec": {
   "display_name": "qubit_control_env",
   "language": "python",
   "name": "qubit_control_env"
  },
  "language_info": {
   "codemirror_mode": {
    "name": "ipython",
    "version": 3
   },
   "file_extension": ".py",
   "mimetype": "text/x-python",
   "name": "python",
   "nbconvert_exporter": "python",
   "pygments_lexer": "ipython3",
   "version": "3.11.12"
  }
 },
 "nbformat": 4,
 "nbformat_minor": 5
}
